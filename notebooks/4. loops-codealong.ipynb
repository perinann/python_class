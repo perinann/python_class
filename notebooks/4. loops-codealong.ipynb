{
 "cells": [
  {
   "cell_type": "markdown",
   "metadata": {},
   "source": [
    "# Loops\n",
    "\n",
    "Often, programs need to do the same task several times repeatedly. You may need to run a task just a handful of times, or maybe thousands of times.\n",
    "\n",
    "For example, say you want to print out all of the numbers 0 - 5. You could write `print()` 5 times:"
   ]
  },
  {
   "cell_type": "code",
   "execution_count": null,
   "metadata": {},
   "outputs": [],
   "source": []
  },
  {
   "cell_type": "markdown",
   "metadata": {},
   "source": [
    "However, if you want to expand this even a few numbers further, it gets very tedious very quickly.\n",
    "\n",
    "To save us from having to have the same code duplicated over and over, we have **loops**. They are incredibly powerful tools for examining large amounts of information. Here we will be looking at **`while` loops** and **`for` loops**."
   ]
  },
  {
   "cell_type": "markdown",
   "metadata": {},
   "source": [
    "## `while` loops\n",
    "\n",
    "`while` loops are somewhat similar to `if` statements as both depend on conditions to do actions. You can think of a `while` loop as an `if` statement that keeps on repeating as long as the condition stays true.\n",
    "\n",
    "Here is an example of a basic `while` loop:"
   ]
  },
  {
   "cell_type": "code",
   "execution_count": null,
   "metadata": {},
   "outputs": [],
   "source": []
  },
  {
   "cell_type": "markdown",
   "metadata": {},
   "source": [
    "Let's break down the code.\n",
    "- `i = 0`: We initialize `i` as 0 before the `while` loop\n",
    "- `while i < 5:`: This begins the `while` loop and specifies the condition being tested. Essentially it means as long as `i` is less than 5, keep doing the code below.\n",
    "- `print(i)`: Print current value of `i`\n",
    "- `i += 1`: We increase the value of `i` at the end of each loop\n",
    "- Once `i += 1` runs, the `while` loop checks the current value of `i`\n",
    "- If `i` is less than 5, the code in the `while` loop runs again. Otherwise, the loop is over.\n",
    "\n",
    "We have to be careful not to create an infinite loop. For instance, if you removed the line with `i += 1`, `i` would never reach 5, and the loop would keep printing `0`. If you do this, you can always halt execution of the cell."
   ]
  },
  {
   "cell_type": "markdown",
   "metadata": {},
   "source": [
    "Below is more complicated `while` loop. We have a list of names, and an index `i` keeping track of where we are in the list. We want to print out names until we reach `'Jimmy'`, so we keep a boolean variable called `notJimmy` set to `True` initially. We go through the list one name at a time and check to see if the name is `'Jimmy'`. If the name is `'Jimmy'`, we change `notJimmy` to be `False`; otherwise, we don't do anything. Regardless, we continue to the end of the loop, printing the name and the value of `notJimmy` and incrementing `i` by one. If `not Jimmy` is true, the loop keeps going; otherwise, it is finished."
   ]
  },
  {
   "cell_type": "code",
   "execution_count": null,
   "metadata": {},
   "outputs": [],
   "source": [
    "friends = ['Jim', 'Bob', 'Jimbob', 'Jimmy', 'James'] # list of friend names"
   ]
  },
  {
   "cell_type": "markdown",
   "metadata": {},
   "source": [
    "#### Question\n",
    "\n",
    "Create a variable `x` with the value of 8. Divide `x` by 2 and re-assign this value to `x`. Continue to do this until `x` is less than 0.00001. Print out how many divisions this takes."
   ]
  },
  {
   "cell_type": "code",
   "execution_count": 1,
   "metadata": {},
   "outputs": [],
   "source": [
    "### your code here:"
   ]
  },
  {
   "cell_type": "markdown",
   "metadata": {},
   "source": [
    "## For loops\n",
    "\n",
    "`for` loops are one of the most powerful tools that base Python has to offer. `for` loops take **iterables** (lists, dictionaries, sets, tuples, even strings) and perform the same actions to each item contained within them.  "
   ]
  },
  {
   "cell_type": "markdown",
   "metadata": {},
   "source": [
    "In the code below, each number in a list gets added to 20, and then the sum is printed. We call this **iterating** over the items in the list. Note the keywords `for` and `in`."
   ]
  },
  {
   "cell_type": "code",
   "execution_count": 2,
   "metadata": {},
   "outputs": [
    {
     "name": "stdout",
     "output_type": "stream",
     "text": [
      "20\n",
      "21\n",
      "22\n",
      "23\n",
      "24\n",
      "25\n"
     ]
    }
   ],
   "source": [
    "num_list = [0, 1, 2, 3, 4, 5] # list of numbers\n",
    "\n",
    "for n in num_list:\n",
    "    print(n+20)\n"
   ]
  },
  {
   "cell_type": "markdown",
   "metadata": {},
   "source": [
    "Let's break down this code:\n",
    "- `num_list = [0, 1, 2, 3, 4, 5]`: Makes a list of integers 0-5.\n",
    "- `for n in num_list:`: Take the first item in num_list and assign its value to `n`.\n",
    "- `print(n + 20)`: Add n and 20 and print the sum.\n",
    "- We then go back to the start of the loop, take the next item, assign it to `n`, and start all over again.\n",
    "\n",
    "For ordered iterables, like lists, tuples, and strings, `for` loops iterate over these groups in order."
   ]
  },
  {
   "cell_type": "markdown",
   "metadata": {},
   "source": [
    "Just like normal variable names, the variable name we use after `for` is arbitrary, though short and descriptive is best. "
   ]
  },
  {
   "cell_type": "code",
   "execution_count": null,
   "metadata": {},
   "outputs": [],
   "source": []
  },
  {
   "cell_type": "markdown",
   "metadata": {},
   "source": [
    "If you want to quickly create a range of numbers to iterate over, the `range()` function generates numbers from 0 to the int you provide (but not including it)."
   ]
  },
  {
   "cell_type": "code",
   "execution_count": 3,
   "metadata": {},
   "outputs": [
    {
     "name": "stdout",
     "output_type": "stream",
     "text": [
      "0\n",
      "1\n",
      "2\n",
      "3\n"
     ]
    }
   ],
   "source": [
    "for i in range(4):\n",
    "\n",
    "    print(i)"
   ]
  },
  {
   "cell_type": "code",
   "execution_count": 5,
   "metadata": {},
   "outputs": [
    {
     "name": "stdout",
     "output_type": "stream",
     "text": [
      "3\n",
      "5\n",
      "7\n",
      "9\n"
     ]
    }
   ],
   "source": [
    "for i in range(3,10,2): # (start,end,step) - 2 basically saying go in steps of 2\n",
    "    print(i)"
   ]
  },
  {
   "cell_type": "markdown",
   "metadata": {},
   "source": [
    "We can start to use for loops to do tasks with strings, as well."
   ]
  },
  {
   "cell_type": "code",
   "execution_count": null,
   "metadata": {},
   "outputs": [],
   "source": [
    "my_breakfast = ['eggs', 'cereal', 'oatmeal', 'toast'] \n"
   ]
  },
  {
   "cell_type": "markdown",
   "metadata": {},
   "source": [
    "We can use the `enumerate()` function to iterate over items in a list and get their indexes at the same time. \n",
    "\n",
    "When use use `enumerate()`, we need to provide two variables names separated by a comma. The first represents the current index, and the second is the item at that index."
   ]
  },
  {
   "cell_type": "code",
   "execution_count": null,
   "metadata": {},
   "outputs": [],
   "source": []
  },
  {
   "cell_type": "markdown",
   "metadata": {},
   "source": [
    "This is a very useful approach for iterating over multiple lists of the same length at once."
   ]
  },
  {
   "cell_type": "code",
   "execution_count": 2,
   "metadata": {},
   "outputs": [],
   "source": [
    "my_lunch = ['sandwich', 'chips', 'fruit', 'juice']\n",
    "my_dinner = ['pasta', 'salad', 'bread', 'dessert']\n",
    "\n",
    "\n"
   ]
  },
  {
   "cell_type": "markdown",
   "metadata": {},
   "source": [
    "### Question\n",
    "Below are four lists: `x1`, `x2`, `y1`, and `y2`.\n",
    "\n",
    "Using a single for loop, subtract the values of x1 and x2 at each index, and take the square of the difference. Do the same for `y1` and `y2`. Add the two squares together. Store all 4 squares in a list in the same order."
   ]
  },
  {
   "cell_type": "code",
   "execution_count": 11,
   "metadata": {},
   "outputs": [
    {
     "data": {
      "text/plain": [
       "[23890.809999999998,\n",
       " 2861.4100000000008,\n",
       " 1655.6199999999994,\n",
       " 555.2499999999999,\n",
       " 9608.579999999996]"
      ]
     },
     "execution_count": 11,
     "metadata": {},
     "output_type": "execute_result"
    }
   ],
   "source": [
    "x1 = [6.3, 7.1, 3.7, 3.2, 0.1]\n",
    "x2 = [-5.7, -17.5, -3.2, -19.3,-18.2]\n",
    "y1 = [34.6, 28.4, 60.0, 68.1, 83.9]\n",
    "y2 = [188.7,  75.9, 100.1, 61.1, 180.2]\n",
    "\n",
    "# your code here: \n",
    "\n",
    "ans = []\n",
    "\n",
    "for i in range(5):\n",
    "    x = (x1[i]-x2[i])**2\n",
    "    y = (y1[i]-y2[i])**2\n",
    "\n",
    "    ans.append(x+y)\n",
    "\n",
    "ans"
   ]
  },
  {
   "cell_type": "markdown",
   "metadata": {},
   "source": [
    "### Question\n",
    "\n",
    "Create a string variable called `my_string`. Iterate over `my_string` with a for loop using `for n in my_string`, and print out `n` in each iteration. What does this do?"
   ]
  },
  {
   "cell_type": "code",
   "execution_count": 6,
   "metadata": {},
   "outputs": [
    {
     "name": "stdout",
     "output_type": "stream",
     "text": [
      "w\n",
      "o\n",
      "r\n",
      "d\n",
      "s\n"
     ]
    }
   ],
   "source": [
    "### your code here.\n",
    "\n",
    "my_string = 'words'\n",
    "\n",
    "for n in my_string:\n",
    "    print(n)"
   ]
  },
  {
   "cell_type": "markdown",
   "metadata": {},
   "source": [
    "## Conditionals and `for` loops"
   ]
  },
  {
   "cell_type": "markdown",
   "metadata": {},
   "source": [
    "`for` loops can become quite powerful when you include conditionals that change behavior based on the item in the current iteration."
   ]
  },
  {
   "cell_type": "code",
   "execution_count": null,
   "metadata": {},
   "outputs": [],
   "source": []
  },
  {
   "cell_type": "code",
   "execution_count": 14,
   "metadata": {},
   "outputs": [
    {
     "name": "stdout",
     "output_type": "stream",
     "text": [
      "I do not like to eat eggs\n",
      "I do like to eat cereal\n",
      "I do like to eat oatmeal\n",
      "I do like to eat toast\n"
     ]
    }
   ],
   "source": [
    "my_breakfast = ['eggs', 'cereal', 'oatmeal', 'toast']\n",
    "\n",
    "for food in my_breakfast:\n",
    "\n",
    "    if food == 'eggs':\n",
    "        print('I do not like to eat',food)\n",
    "    \n",
    "    else:\n",
    "        print('I do like to eat',food)"
   ]
  },
  {
   "cell_type": "markdown",
   "metadata": {},
   "source": [
    "We can even use full `if`-`elif`-`else` statements."
   ]
  },
  {
   "cell_type": "code",
   "execution_count": 15,
   "metadata": {},
   "outputs": [
    {
     "name": "stdout",
     "output_type": "stream",
     "text": [
      "I do not like to eat eggs.\n",
      "I like to eat cereal.\n",
      "I like to eat oatmeal.\n",
      "I sometimes like to eat toast.\n"
     ]
    }
   ],
   "source": [
    "for food in my_breakfast:\n",
    "\n",
    "    if len(food) <5:\n",
    "\n",
    "        sentence = \"I do not like to eat \" + food + \".\"\n",
    "\n",
    "    elif len(food) < 6:\n",
    "\n",
    "        sentence = \"I sometimes like to eat \" + food + \".\"\n",
    "\n",
    "    else:\n",
    "        sentence = \"I like to eat \" + food + \".\"\n",
    "    \n",
    "    print(sentence)"
   ]
  },
  {
   "cell_type": "markdown",
   "metadata": {},
   "source": [
    "#### Question: `for` loops\n",
    "\n",
    "Iterate over all integers from 0 to 1000 and print all multiples of 41 (numbers that can be divided by 41 with no remainder). How many multiples are there?"
   ]
  },
  {
   "cell_type": "code",
   "execution_count": 16,
   "metadata": {},
   "outputs": [],
   "source": [
    "### put your code below:\n"
   ]
  },
  {
   "cell_type": "markdown",
   "metadata": {},
   "source": [
    "## Iterating over dictionaries\n",
    "\n",
    "`for` loops can also be used to iterate over items in a dictionary.\n",
    "\n",
    "If we use `for` loops in a similar manner to how we've used them for lists, we iterate over the keys of the dictionary. "
   ]
  },
  {
   "cell_type": "code",
   "execution_count": 18,
   "metadata": {},
   "outputs": [
    {
     "name": "stdout",
     "output_type": "stream",
     "text": [
      "US\n",
      "59939\n",
      "\n",
      "China\n",
      "8612\n",
      "\n",
      "Japan\n",
      "38214\n",
      "\n",
      "Germany\n",
      "44680\n",
      "\n"
     ]
    }
   ],
   "source": [
    "gdp_per_capita = {\n",
    "    'US': 59939,\n",
    "    'China': 8612,\n",
    "    'Japan': 38214,\n",
    "    'Germany': 44680\n",
    "}\n",
    "\n",
    "for country in gdp_per_capita:\n",
    "    print(country)\n",
    "    print(gdp_per_capita[country])\n",
    "    print()\n"
   ]
  },
  {
   "cell_type": "markdown",
   "metadata": {},
   "source": [
    "We can make this more explicit by iterating over `gdp_per_capita.keys()`."
   ]
  },
  {
   "cell_type": "code",
   "execution_count": 19,
   "metadata": {},
   "outputs": [
    {
     "name": "stdout",
     "output_type": "stream",
     "text": [
      "US\n",
      "59939\n",
      "\n",
      "China\n",
      "8612\n",
      "\n",
      "Japan\n",
      "38214\n",
      "\n",
      "Germany\n",
      "44680\n",
      "\n"
     ]
    }
   ],
   "source": [
    "for country in gdp_per_capita.keys():\n",
    "    print(country)\n",
    "    print(gdp_per_capita[country])\n",
    "    print()"
   ]
  },
  {
   "cell_type": "markdown",
   "metadata": {},
   "source": [
    "We can iterate only over the values with `.values()` if the keys don't matter too much."
   ]
  },
  {
   "cell_type": "code",
   "execution_count": 20,
   "metadata": {},
   "outputs": [
    {
     "name": "stdout",
     "output_type": "stream",
     "text": [
      "59939\n",
      "8612\n",
      "38214\n",
      "44680\n"
     ]
    }
   ],
   "source": [
    "for gdpc in gdp_per_capita.values():\n",
    "    print(gdpc)"
   ]
  },
  {
   "cell_type": "markdown",
   "metadata": {},
   "source": [
    "Finally, if both key and value are important, we can get both value and key for each iteration with `.items()`. \n",
    "\n",
    "With `.items()`, we need to provide both two variable names separated by a comma. The first name will be the key, and the second name is the value."
   ]
  },
  {
   "cell_type": "code",
   "execution_count": 21,
   "metadata": {},
   "outputs": [
    {
     "name": "stdout",
     "output_type": "stream",
     "text": [
      "US\n",
      "59939\n",
      "\n",
      "China\n",
      "8612\n",
      "\n",
      "Japan\n",
      "38214\n",
      "\n",
      "Germany\n",
      "44680\n",
      "\n"
     ]
    }
   ],
   "source": [
    "for country, gdpc in gdp_per_capita.items():\n",
    "    print(country)\n",
    "    print(gdpc)\n",
    "    print()"
   ]
  },
  {
   "cell_type": "markdown",
   "metadata": {},
   "source": [
    "### Nested `for` loops\n",
    "\n",
    "Just like you can use `if` statements in a `for` loop, you can also put `for` loops inside of other `for` loops. This is great if you want to use all combinations of two lists, for instance."
   ]
  },
  {
   "cell_type": "code",
   "execution_count": 25,
   "metadata": {},
   "outputs": [
    {
     "name": "stdout",
     "output_type": "stream",
     "text": [
      "outfit combinations\n",
      "plaid shirt with a bowler with sneakers\n",
      "plaid shirt with a bowler with boots\n",
      "plaid shirt with a bowler with slippers\n",
      "plaid shirt with a fedora with s\n",
      "plaid shirt with a fedora with l\n",
      "plaid shirt with a fedora with i\n",
      "plaid shirt with a fedora with p\n",
      "plaid shirt with a fedora with p\n",
      "plaid shirt with a fedora with e\n",
      "plaid shirt with a fedora with r\n",
      "plaid shirt with a fedora with s\n",
      "plaid shirt with a beret with s\n",
      "striped shirt with a bowler with s\n",
      "striped shirt with a fedora with s\n",
      "striped shirt with a beret with s\n",
      "polka dot shirt with a bowler with s\n",
      "polka dot shirt with a fedora with s\n",
      "polka dot shirt with a beret with s\n"
     ]
    }
   ],
   "source": [
    "shirts = ['plaid', 'striped', 'polka dot']\n",
    "hats = ['bowler', 'fedora', 'beret']\n",
    "shoes = ['sneakers','boots','slippers']\n",
    "\n",
    "print('outfit combinations')\n",
    "\n",
    "for shirt in shirts:\n",
    "\n",
    "    for hat in hats:\n",
    "\n",
    "        for shoes in shoes:\n",
    "\n",
    "            print(shirt,\"shirt with a\",hat,\"with\",shoes)"
   ]
  },
  {
   "cell_type": "markdown",
   "metadata": {},
   "source": [
    "Be careful, however. If you use very long collections of items and nest more than 2 loops, the runtime can become very slow.\n",
    "\n",
    "However, they are sometimes necessary, especially when iterating through nested lists or dictionaries."
   ]
  },
  {
   "cell_type": "code",
   "execution_count": null,
   "metadata": {},
   "outputs": [],
   "source": [
    "sample1 = {\n",
    "    'co2': [10.2, 3.4, 10.1], \n",
    "    'n': 23, \n",
    "    'city':'Waltham'\n",
    "}\n",
    "sample2 = {\n",
    "    'co2': [4.2, 2.3, 3.5], \n",
    "    'n': 4, \n",
    "    'city':'Watertown'\n",
    "}\n",
    "\n",
    "samples = {'s1': sample1, 's2': sample2}"
   ]
  },
  {
   "cell_type": "markdown",
   "metadata": {},
   "source": [
    "### Comprehensions\n",
    "\n",
    "If the outcome of your `for` loop is to produce a list, dictionary, set, or tuple, and you are using minimal code in your loop, then **comprehensions** may be perfect for you."
   ]
  },
  {
   "cell_type": "code",
   "execution_count": null,
   "metadata": {},
   "outputs": [],
   "source": []
  },
  {
   "cell_type": "code",
   "execution_count": null,
   "metadata": {},
   "outputs": [],
   "source": []
  },
  {
   "cell_type": "markdown",
   "metadata": {},
   "source": [
    "### Question\n",
    "\n",
    "Using a list comprehension and `range()` to make a list containing integers 10 - 1000."
   ]
  },
  {
   "cell_type": "code",
   "execution_count": null,
   "metadata": {},
   "outputs": [],
   "source": []
  },
  {
   "attachments": {},
   "cell_type": "markdown",
   "metadata": {},
   "source": [
    "### Question\n",
    "Below is a nested dictionary structure containing temperature, humidity, and pressure values for different months in 2021 and 2022.\n",
    "\n",
    "For each year, use for loops to store the months with temperature above 20 degrees and humidity between 50 and 60 in their own lists. "
   ]
  },
  {
   "cell_type": "code",
   "execution_count": 1,
   "metadata": {},
   "outputs": [
    {
     "name": "stdout",
     "output_type": "stream",
     "text": [
      "January 12.3\n",
      "February 11.1\n",
      "March 13.2\n",
      "April 15.8\n",
      "May 18.5\n",
      "June 21.2\n",
      "July 23.8\n",
      "August 25.6\n",
      "September 22.5\n",
      "October 19.4\n",
      "November 16.3\n",
      "December 13.4\n",
      "January 9.8\n",
      "February 10.5\n",
      "March 12.9\n",
      "April 16.0\n",
      "May 18.9\n",
      "June 21.6\n",
      "July 24.2\n",
      "August 26.0\n",
      "September 22.9\n",
      "October 19.8\n",
      "November 16.7\n",
      "December 13.8\n"
     ]
    }
   ],
   "source": [
    "\n",
    "environment_data = {\n",
    "    '2021': {\n",
    "        'January': {'temperature': 12.3, 'humidity': 40.2, 'pressure': 1012},\n",
    "        'February': {'temperature': 11.1, 'humidity': 42.7, 'pressure': 1008},\n",
    "        'March': {'temperature': 13.2, 'humidity': 44.5, 'pressure': 1006},\n",
    "        'April': {'temperature': 15.8, 'humidity': 50.1, 'pressure': 1010},\n",
    "        'May': {'temperature': 18.5, 'humidity': 52.3, 'pressure': 1005},\n",
    "        'June': {'temperature': 21.2, 'humidity': 55.8, 'pressure': 1000},\n",
    "        'July': {'temperature': 23.8, 'humidity': 57.2, 'pressure': 1001},\n",
    "        'August': {'temperature': 25.6, 'humidity': 60.1, 'pressure': 1005},\n",
    "        'September': {'temperature': 22.5, 'humidity': 58.2, 'pressure': 1009},\n",
    "        'October': {'temperature': 19.4, 'humidity': 51.7, 'pressure': 1011},\n",
    "        'November': {'temperature': 16.3, 'humidity': 47.2, 'pressure': 1010},\n",
    "        'December': {'temperature': 13.4, 'humidity': 43.8, 'pressure': 1008}\n",
    "    },\n",
    "    '2022': {\n",
    "        'January': {'temperature': 9.8, 'humidity': 38.1, 'pressure': 1015},\n",
    "        'February': {'temperature': 10.5, 'humidity': 43.2, 'pressure': 1010},\n",
    "        'March': {'temperature': 12.9, 'humidity': 47.0, 'pressure': 1004},\n",
    "        'April': {'temperature': 16.0, 'humidity': 50.6, 'pressure': 1011},\n",
    "        'May': {'temperature': 18.9, 'humidity': 53.5, 'pressure': 1006},\n",
    "        'June': {'temperature': 21.6, 'humidity': 57.1, 'pressure': 1001},\n",
    "        'July': {'temperature': 24.2, 'humidity': 59.4, 'pressure': 1002},\n",
    "        'August': {'temperature': 26.0, 'humidity': 62.3, 'pressure': 1006},\n",
    "        'September': {'temperature': 22.9, 'humidity': 59.8, 'pressure': 1010},\n",
    "        'October': {'temperature': 19.8, 'humidity': 54.5, 'pressure': 1012},\n",
    "        'November': {'temperature': 16.7, 'humidity': 49.1, 'pressure': 1011},\n",
    "        'December': {'temperature': 13.8, 'humidity': 45.5, 'pressure': 1009}\n",
    "    }\n",
    "}\n",
    "\n",
    "# your code:\n",
    "\n",
    "for year in environment_data:\n",
    "\n",
    "    for month, data in environment_data[year].items():\n",
    "\n",
    "        # print(month, data['temperature'])"
   ]
  },
  {
   "cell_type": "code",
   "execution_count": 2,
   "metadata": {},
   "outputs": [
    {
     "data": {
      "text/plain": [
       "dict_items([('January', {'temperature': 12.3, 'humidity': 40.2, 'pressure': 1012}), ('February', {'temperature': 11.1, 'humidity': 42.7, 'pressure': 1008}), ('March', {'temperature': 13.2, 'humidity': 44.5, 'pressure': 1006}), ('April', {'temperature': 15.8, 'humidity': 50.1, 'pressure': 1010}), ('May', {'temperature': 18.5, 'humidity': 52.3, 'pressure': 1005}), ('June', {'temperature': 21.2, 'humidity': 55.8, 'pressure': 1000}), ('July', {'temperature': 23.8, 'humidity': 57.2, 'pressure': 1001}), ('August', {'temperature': 25.6, 'humidity': 60.1, 'pressure': 1005}), ('September', {'temperature': 22.5, 'humidity': 58.2, 'pressure': 1009}), ('October', {'temperature': 19.4, 'humidity': 51.7, 'pressure': 1011}), ('November', {'temperature': 16.3, 'humidity': 47.2, 'pressure': 1010}), ('December', {'temperature': 13.4, 'humidity': 43.8, 'pressure': 1008})])"
      ]
     },
     "execution_count": 2,
     "metadata": {},
     "output_type": "execute_result"
    }
   ],
   "source": [
    "environment_data['2021'].items()"
   ]
  },
  {
   "cell_type": "markdown",
   "metadata": {},
   "source": [
    "## Resources\n",
    "- [Software Carpentry](https://swcarpentry.github.io/python-novice-inflammation/05-loop/index.html)\n",
    "- [W3 School - List Comprehensions](https://www.w3schools.com/python/python_lists_comprehension.asp)"
   ]
  }
 ],
 "metadata": {
  "kernelspec": {
   "display_name": "base",
   "language": "python",
   "name": "python3"
  },
  "language_info": {
   "codemirror_mode": {
    "name": "ipython",
    "version": 3
   },
   "file_extension": ".py",
   "mimetype": "text/x-python",
   "name": "python",
   "nbconvert_exporter": "python",
   "pygments_lexer": "ipython3",
   "version": "3.9.13"
  },
  "orig_nbformat": 4,
  "vscode": {
   "interpreter": {
    "hash": "968e010e6a210a761676e2f01bce171cb0df661d56cf92c86147fa3f9ecaf66e"
   }
  }
 },
 "nbformat": 4,
 "nbformat_minor": 2
}
