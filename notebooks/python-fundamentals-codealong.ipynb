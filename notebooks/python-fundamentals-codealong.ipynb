{
 "cells": [
  {
   "cell_type": "markdown",
   "metadata": {},
   "source": [
    "# Python Fundamentals\n",
    "\n",
    "Python is a very powerful tool for automating tasks that would otherwise be time-consuming or impossible to do by hand or other conventional tools. Here, we'll go over basic ways to use Python to introduce you to a slice of its potential.\n",
    "\n"
   ]
  },
  {
   "cell_type": "markdown",
   "metadata": {},
   "source": [
    "## Markdown\n",
    "\n",
    "Jupyter notebooks consist of text cells and code cells. Text cells are written in the language Markdown, which allows for straightforward text formatting. When it is executed, Markdown renders into HTML. Here is some basic ways to specify formatting in Markdown:\n",
    "\n",
    "# Heading 1\n",
    "## Heading 2\n",
    "### Heading 3\n",
    "\n",
    "- unordered\n",
    "- list\n",
    "- of \n",
    "- things\n",
    "\n",
    "1. Ordered\n",
    "2. list\n",
    "3. of\n",
    "4. things\n",
    "\n",
    "*italics*\n",
    "\n",
    "**boldface**\n",
    "\n",
    "[A link](www.google.com)\n",
    "\n",
    "![An image](https://www.palmpressinc.com/wp-content/uploads/cc_resize/3704-700x0.jpg)\n",
    "\n",
    "`Inline code`\n",
    "\n",
    "Inline LaTeX math equation: $x^2 + 3$\n",
    "\n",
    "Block LaTeX math equation:\n",
    "$$ \\frac{dy}{dx} = \\sqrt{a^x} $$\n",
    "\n",
    "To run a cell and render it, hit <kbd>Shift</kbd> + <kbd>Enter</kbd>. You can re-edit this cell by selecting a cell and hitting <kbd>Enter</kbd> or by double clicking.\n",
    "\n",
    "For more on Markdown, check out [this cheatsheet](https://www.markdownguide.org/cheat-sheet/)."
   ]
  },
  {
   "cell_type": "markdown",
   "metadata": {},
   "source": [
    "## Python cells\n",
    "\n",
    "Our Python will live in code cells. These cells will highlight different types of works and variables as different colors, which will provide a visual aid. \n",
    "\n",
    "Below is a code block showing some Python code showing what code coloring might look like this, with the printed output of the process below it:\n",
    "\n",
    "To run a code cell, you should be able to click a button on the cell. You may also be able to alternate between putting a cell into Edit and Command modes. Depending on where you are running Jupyter, you should also have very handy keyboard shortcuts. For instance:\n",
    "\n",
    "- Toggle between modes: <kbd>Esc</kbd> and <kbd>Enter</kbd>\n",
    "- Run cell: <kbd>Ctrl</kbd> + <kbd>Enter</kbd> or <kbd>Shift</kbd> + <kbd>Enter</kbd> \n",
    "- Add a cell above: <kbd>A</kbd> \n",
    "- Add a cell below: <kbd>B</kbd>"
   ]
  },
  {
   "cell_type": "markdown",
   "metadata": {},
   "source": [
    "### Question 1.  Do it yourself!  Coding"
   ]
  },
  {
   "cell_type": "code",
   "execution_count": 1,
   "metadata": {},
   "outputs": [
    {
     "name": "stdout",
     "output_type": "stream",
     "text": [
      "Hello world\n"
     ]
    }
   ],
   "source": [
    "#  INSTRUCTIONS:   Write a message in the quotes.\n",
    "#  type Shift+Enter to run the cell.\n",
    "message = 'Hello world'\n",
    "\n",
    "print(message)"
   ]
  },
  {
   "cell_type": "markdown",
   "metadata": {},
   "source": [
    "## Python as a calculator"
   ]
  },
  {
   "cell_type": "markdown",
   "metadata": {},
   "source": [
    "An incredibly simple yet pivotal role of Python is to perform math calculations (addition, subtraction, multiplication, etc.). We show how to basic action below.\n",
    "\n",
    "You'll see the symbol `#` used often. These are comments, and they are used to write descriptions. Any characters following `#` are not run or executed."
   ]
  },
  {
   "cell_type": "code",
   "execution_count": 2,
   "metadata": {},
   "outputs": [
    {
     "data": {
      "text/plain": [
       "17"
      ]
     },
     "execution_count": 2,
     "metadata": {},
     "output_type": "execute_result"
    }
   ],
   "source": [
    "# addition and multiplication \n",
    "5 + 6*2"
   ]
  },
  {
   "cell_type": "markdown",
   "metadata": {},
   "source": [
    "After we run a cell, an output is displayed below. \n",
    "\n",
    "You may have noticed from that example that order of operations mattered for that calculation. You can parentheses too if you want to group calculations"
   ]
  },
  {
   "cell_type": "code",
   "execution_count": 14,
   "metadata": {},
   "outputs": [
    {
     "name": "stdout",
     "output_type": "stream",
     "text": [
      "3.0\n"
     ]
    },
    {
     "data": {
      "text/plain": [
       "2.0"
      ]
     },
     "execution_count": 14,
     "metadata": {},
     "output_type": "execute_result"
    }
   ],
   "source": [
    "# division and substraction\n",
    "print (12/2 - 3)\n",
    "(7-3)/2"
   ]
  },
  {
   "cell_type": "markdown",
   "metadata": {},
   "source": [
    "Exponentiation (e.g. $2^3$) looks a little bit odd in Python as it uses `**` instead of a more traditional `^`."
   ]
  },
  {
   "cell_type": "code",
   "execution_count": 15,
   "metadata": {},
   "outputs": [
    {
     "data": {
      "text/plain": [
       "8"
      ]
     },
     "execution_count": 15,
     "metadata": {},
     "output_type": "execute_result"
    }
   ],
   "source": [
    "# exponentiation\n",
    "2**3"
   ]
  },
  {
   "cell_type": "markdown",
   "metadata": {},
   "source": [
    "#### Question 2: Calculate the following value in Python: $ \\frac{25}{(35 - 3)^3} $"
   ]
  },
  {
   "cell_type": "code",
   "execution_count": 18,
   "metadata": {},
   "outputs": [
    {
     "data": {
      "text/plain": [
       "0.000762939453125"
      ]
     },
     "execution_count": 18,
     "metadata": {},
     "output_type": "execute_result"
    }
   ],
   "source": [
    "### Put your answer below: \n",
    "25/((35-3)**3)"
   ]
  },
  {
   "cell_type": "markdown",
   "metadata": {},
   "source": [
    "## Assigning Variables\n",
    "A foundational tool in Python is assigning values to variables. We do this with the `=` operator."
   ]
  },
  {
   "cell_type": "code",
   "execution_count": 19,
   "metadata": {},
   "outputs": [],
   "source": [
    "x=50"
   ]
  },
  {
   "cell_type": "markdown",
   "metadata": {},
   "source": [
    "This sets the variable `x` to be 50, an **integer**, or `int`. This value of x is now stored in our notebook, and we can access this value in other cells until the notebook is reset. For instance, subtracting 20 from `x` prints out a value of 30."
   ]
  },
  {
   "cell_type": "code",
   "execution_count": 20,
   "metadata": {},
   "outputs": [
    {
     "data": {
      "text/plain": [
       "20"
      ]
     },
     "execution_count": 20,
     "metadata": {},
     "output_type": "execute_result"
    }
   ],
   "source": [
    "# What if I use x again in a different cell?\n",
    "x-30"
   ]
  },
  {
   "cell_type": "markdown",
   "metadata": {},
   "source": [
    "**Variables persist between cells once they have been run (executed).**"
   ]
  },
  {
   "cell_type": "markdown",
   "metadata": {},
   "source": [
    "If we ever want to check the value of any variable, we can use the built-in `print()` command to display the value. "
   ]
  },
  {
   "cell_type": "code",
   "execution_count": 22,
   "metadata": {},
   "outputs": [
    {
     "name": "stdout",
     "output_type": "stream",
     "text": [
      "50\n"
     ]
    },
    {
     "data": {
      "text/plain": [
       "20"
      ]
     },
     "execution_count": 22,
     "metadata": {},
     "output_type": "execute_result"
    }
   ],
   "source": [
    "y=20\n",
    "print(x)\n",
    "y\n"
   ]
  },
  {
   "cell_type": "markdown",
   "metadata": {},
   "source": [
    "We can also assign the value of one variable to another variable. If we execute `x = y`, x takes the current value of `y` and assigns that to `x`.\n",
    "\n",
    "*Note: `y` will be unaffected by this assignment. `x = y` should be interpretted as \"let x take the current value of y\".*"
   ]
  },
  {
   "cell_type": "code",
   "execution_count": 24,
   "metadata": {},
   "outputs": [
    {
     "name": "stdout",
     "output_type": "stream",
     "text": [
      "20\n",
      "20\n"
     ]
    }
   ],
   "source": [
    "x=y\n",
    "print(x)\n",
    "print(y)"
   ]
  },
  {
   "cell_type": "markdown",
   "metadata": {},
   "source": [
    "If we change `y` to be a different value, `x` will be unaffected."
   ]
  },
  {
   "cell_type": "code",
   "execution_count": 26,
   "metadata": {},
   "outputs": [
    {
     "name": "stdout",
     "output_type": "stream",
     "text": [
      "20\n",
      "80\n"
     ]
    }
   ],
   "source": [
    "y=80\n",
    "print(x)\n",
    "print(y)"
   ]
  },
  {
   "cell_type": "markdown",
   "metadata": {},
   "source": [
    "**Basic variables only change value when something is assigned to them.**\n",
    "They are **not** like spreadsheets where a cell can depend on another and update automatically."
   ]
  },
  {
   "cell_type": "markdown",
   "metadata": {},
   "source": [
    "### Question 4: Assigning Variables \n",
    "\n",
    "Create a variable named `pineapple` with the value `23` and a variable `banana` with the value `-50`. Store the product of these variables in a new variable named `apple`. "
   ]
  },
  {
   "cell_type": "code",
   "execution_count": 28,
   "metadata": {},
   "outputs": [
    {
     "name": "stdout",
     "output_type": "stream",
     "text": [
      "-1150\n"
     ]
    }
   ],
   "source": [
    "# your code below:\n",
    "pineapple=23\n",
    "banana=-50\n",
    "apple=pineapple*banana\n",
    "print(apple)"
   ]
  },
  {
   "cell_type": "markdown",
   "metadata": {},
   "source": [
    "### Question 5.  Swapping Values\n",
    "Given the code below, what is the value of the variable `swap` by the end of the block?"
   ]
  },
  {
   "cell_type": "code",
   "execution_count": 30,
   "metadata": {},
   "outputs": [
    {
     "data": {
      "text/plain": [
       "1.0"
      ]
     },
     "execution_count": 30,
     "metadata": {},
     "output_type": "execute_result"
    }
   ],
   "source": [
    "x = 1.0\n",
    "y = 3.0\n",
    "swap = x\n",
    "x = y\n",
    "y = swap \n",
    "swap"
   ]
  },
  {
   "cell_type": "markdown",
   "metadata": {},
   "source": [
    "**What's in a name?** _Variable name conventions_\n",
    "- Use only letters, digits, and underscores _\n",
    "- Start with a letter (typically lower case)\n",
    "- Variable names are case sensitive\n",
    "- Use meaningful names!\n",
    "\n",
    "**Variables must be created before they are used.** Otherwise, Python will throw an error."
   ]
  },
  {
   "cell_type": "code",
   "execution_count": 32,
   "metadata": {},
   "outputs": [
    {
     "name": "stdout",
     "output_type": "stream",
     "text": [
      "0\n"
     ]
    }
   ],
   "source": [
    "z=0\n",
    "print(z)"
   ]
  },
  {
   "cell_type": "markdown",
   "metadata": {},
   "source": [
    "In the following example, we specify a value for a variable after we print it. This will not work. Within a cell, the statements are executed from top to bottom. If the Python interpreter finds an error, execution stops."
   ]
  },
  {
   "cell_type": "code",
   "execution_count": 34,
   "metadata": {},
   "outputs": [
    {
     "name": "stdout",
     "output_type": "stream",
     "text": [
      "Katrak\n"
     ]
    }
   ],
   "source": [
    "lastname = 'Katrak'\n",
    "print(lastname)"
   ]
  },
  {
   "cell_type": "markdown",
   "metadata": {},
   "source": [
    "If we want to increase a value of a variable by a certain, we can use the `+=` operator. Here, we add 2 to the current value of x."
   ]
  },
  {
   "cell_type": "code",
   "execution_count": 40,
   "metadata": {},
   "outputs": [
    {
     "data": {
      "text/plain": [
       "5"
      ]
     },
     "execution_count": 40,
     "metadata": {},
     "output_type": "execute_result"
    }
   ],
   "source": [
    "x=3\n",
    "x+=2\n",
    "x"
   ]
  },
  {
   "cell_type": "markdown",
   "metadata": {},
   "source": [
    "This is equivalent to running `x = x + 2`. We can also do similar operations with subtraction, multiplication, and division."
   ]
  },
  {
   "cell_type": "code",
   "execution_count": 42,
   "metadata": {},
   "outputs": [
    {
     "data": {
      "text/plain": [
       "45"
      ]
     },
     "execution_count": 42,
     "metadata": {},
     "output_type": "execute_result"
    }
   ],
   "source": [
    "x*=3\n",
    "x"
   ]
  },
  {
   "cell_type": "markdown",
   "metadata": {},
   "source": [
    "#### Question 5: `a` has been initialized to be 25. Assign variable `b` to be 5 less than `a` without using `b = 20`. Print the value of b.\n"
   ]
  },
  {
   "cell_type": "code",
   "execution_count": 43,
   "metadata": {},
   "outputs": [
    {
     "data": {
      "text/plain": [
       "20"
      ]
     },
     "execution_count": 43,
     "metadata": {},
     "output_type": "execute_result"
    }
   ],
   "source": [
    "a = 25\n",
    "# write your code here:\n",
    "b=a-5\n",
    "b"
   ]
  },
  {
   "cell_type": "markdown",
   "metadata": {},
   "source": [
    "## Strings\n",
    "\n",
    "So far, we have only assigned integer values to variables. We can also assign values characters to variables. These are called **strings**. You can specify a string by putting text within either single quotation (`'single'`) or double quotation marks (`\"double\"`)."
   ]
  },
  {
   "cell_type": "code",
   "execution_count": 45,
   "metadata": {},
   "outputs": [
    {
     "name": "stdout",
     "output_type": "stream",
     "text": [
      "PerinAnn\n"
     ]
    }
   ],
   "source": [
    "my_name='PerinAnn'\n",
    "print(my_name)"
   ]
  },
  {
   "cell_type": "markdown",
   "metadata": {},
   "source": [
    "We can print out a string directly in `print()`, as well."
   ]
  },
  {
   "cell_type": "code",
   "execution_count": 46,
   "metadata": {},
   "outputs": [
    {
     "name": "stdout",
     "output_type": "stream",
     "text": [
      "My name is\n",
      "PerinAnn\n"
     ]
    }
   ],
   "source": [
    "print('My name is')\n",
    "print(my_name)"
   ]
  },
  {
   "cell_type": "markdown",
   "metadata": {},
   "source": [
    "We can also print out multiple values in a single `print()` statement."
   ]
  },
  {
   "cell_type": "code",
   "execution_count": 52,
   "metadata": {},
   "outputs": [
    {
     "name": "stdout",
     "output_type": "stream",
     "text": [
      "My name is PerinAnn\n"
     ]
    }
   ],
   "source": [
    "print('My name is',my_name)"
   ]
  },
  {
   "cell_type": "markdown",
   "metadata": {},
   "source": [
    "If we print out a string with an integer variable, it will convert the integer to a string in order to print it."
   ]
  },
  {
   "cell_type": "code",
   "execution_count": 53,
   "metadata": {},
   "outputs": [
    {
     "name": "stdout",
     "output_type": "stream",
     "text": [
      "I am 26 years old\n"
     ]
    }
   ],
   "source": [
    "my_age = 26\n",
    "print('I am',my_age,'years old')"
   ]
  },
  {
   "cell_type": "markdown",
   "metadata": {},
   "source": [
    "#### Question 6: What will happen if you run this code?"
   ]
  },
  {
   "cell_type": "code",
   "execution_count": 55,
   "metadata": {},
   "outputs": [
    {
     "name": "stdout",
     "output_type": "stream",
     "text": [
      "Montoya\n"
     ]
    }
   ],
   "source": [
    "last_name = 'Montoya'\n",
    "print(last_name)"
   ]
  },
  {
   "cell_type": "markdown",
   "metadata": {},
   "source": [
    "## Data Types:\n",
    "- integers (`int`) represent positive or negative whole numbers like 3 or -512\n",
    "- floating point numbers (`float`) represent real numbers like 3.14159 or -2.5 \n",
    "- character strings (`str`) are text\n",
    "   - written with single or double quotes (matching)\n",
    "   - quotations aren't printed when the string is displayed"
   ]
  },
  {
   "cell_type": "code",
   "execution_count": 62,
   "metadata": {},
   "outputs": [
    {
     "name": "stdout",
     "output_type": "stream",
     "text": [
      "<class 'int'>\n",
      "<class 'float'>\n",
      "<class 'str'>\n"
     ]
    }
   ],
   "source": [
    "my_var1 = 25\n",
    "print (type(my_var1))\n",
    "my_var2 = 25.0\n",
    "print (type(my_var2))\n",
    "my_var3 = '25'\n",
    "print (type(my_var3))"
   ]
  },
  {
   "cell_type": "markdown",
   "metadata": {},
   "source": [
    "### Combining and adding data types"
   ]
  },
  {
   "cell_type": "markdown",
   "metadata": {},
   "source": [
    "The `+` operator concatenates (adds) strings together. However if you try to add an integer and a string, you will receive an error. "
   ]
  },
  {
   "cell_type": "code",
   "execution_count": 63,
   "metadata": {},
   "outputs": [
    {
     "data": {
      "text/plain": [
       "'several concatenated strings'"
      ]
     },
     "execution_count": 63,
     "metadata": {},
     "output_type": "execute_result"
    }
   ],
   "source": [
    "'several ' + 'concatenated ' + 'strings'"
   ]
  },
  {
   "cell_type": "code",
   "execution_count": 69,
   "metadata": {},
   "outputs": [
    {
     "data": {
      "text/plain": [
       "'say1'"
      ]
     },
     "execution_count": 69,
     "metadata": {},
     "output_type": "execute_result"
    }
   ],
   "source": [
    "'say' + '1'"
   ]
  },
  {
   "cell_type": "markdown",
   "metadata": {},
   "source": [
    "We can convert an `int` to a `string` with the `str()` function to combine them. We must convert numbers to strings or vice versa when operating on them. Consistency is key!"
   ]
  },
  {
   "cell_type": "code",
   "execution_count": 70,
   "metadata": {},
   "outputs": [
    {
     "data": {
      "text/plain": [
       "10"
      ]
     },
     "execution_count": 70,
     "metadata": {},
     "output_type": "execute_result"
    }
   ],
   "source": [
    "5 + int('5')"
   ]
  },
  {
   "cell_type": "markdown",
   "metadata": {},
   "source": [
    "However, we can mix integers and floats freely in operations. This will result in the final value being a float."
   ]
  },
  {
   "cell_type": "code",
   "execution_count": 71,
   "metadata": {},
   "outputs": [
    {
     "data": {
      "text/plain": [
       "11.0"
      ]
     },
     "execution_count": 71,
     "metadata": {},
     "output_type": "execute_result"
    }
   ],
   "source": [
    "5 + 6.0"
   ]
  },
  {
   "cell_type": "markdown",
   "metadata": {},
   "source": [
    "### Length\n",
    "Strings have length (how many characters long they are), which can find with `len()`. Floats and ints do not have length."
   ]
  },
  {
   "cell_type": "code",
   "execution_count": 72,
   "metadata": {},
   "outputs": [
    {
     "data": {
      "text/plain": [
       "19"
      ]
     },
     "execution_count": 72,
     "metadata": {},
     "output_type": "execute_result"
    }
   ],
   "source": [
    "len('this is a sentence.')"
   ]
  },
  {
   "cell_type": "code",
   "execution_count": 73,
   "metadata": {},
   "outputs": [
    {
     "ename": "TypeError",
     "evalue": "object of type 'float' has no len()",
     "output_type": "error",
     "traceback": [
      "\u001b[1;31m---------------------------------------------------------------------------\u001b[0m",
      "\u001b[1;31mTypeError\u001b[0m                                 Traceback (most recent call last)",
      "\u001b[1;32m~\\AppData\\Local\\Temp\\ipykernel_32436\\3977113710.py\u001b[0m in \u001b[0;36m<module>\u001b[1;34m\u001b[0m\n\u001b[1;32m----> 1\u001b[1;33m \u001b[0mlen\u001b[0m\u001b[1;33m(\u001b[0m\u001b[1;36m3.14159\u001b[0m\u001b[1;33m)\u001b[0m\u001b[1;33m\u001b[0m\u001b[1;33m\u001b[0m\u001b[0m\n\u001b[0m",
      "\u001b[1;31mTypeError\u001b[0m: object of type 'float' has no len()"
     ]
    }
   ],
   "source": [
    "len(3.14159)"
   ]
  },
  {
   "cell_type": "markdown",
   "metadata": {},
   "source": [
    "### Division Types with numbers\n",
    "- `//` operator performs integer floor division (rounds down to nearest integer)\n",
    "- `/` operator performs floating point division (returns a number with a decimal point)\n",
    "- `%` modulo operator returns the remainder from integer division"
   ]
  },
  {
   "cell_type": "code",
   "execution_count": 79,
   "metadata": {},
   "outputs": [
    {
     "data": {
      "text/plain": [
       "8"
      ]
     },
     "execution_count": 79,
     "metadata": {},
     "output_type": "execute_result"
    }
   ],
   "source": [
    "58%10"
   ]
  },
  {
   "attachments": {},
   "cell_type": "markdown",
   "metadata": {},
   "source": [
    "### Question 7.  Choose a type (int, float, str) that each of these descriptions should be:\n",
    "- Time elapsed from the start of the year until now in days. (int)\n",
    "- Serial code of a piece of lab equipment (str)\n",
    "- A lab specimen's age (int or float)"
   ]
  },
  {
   "cell_type": "markdown",
   "metadata": {},
   "source": [
    "### Question 8: Quadratic formula\n",
    "\n",
    "A quadratic equation has the following form:\n",
    "\n",
    "$$0 = ax^2 + bx + c$$\n",
    "\n",
    "We can use the quadratic forumula (below) to find the roots of a quadratic equation.\n",
    "\n",
    "$$x = \\frac{-b\\pm\\sqrt{b^2-4ac}}{2a}$$\n",
    "\n",
    "Create variables $a$, $b$, and $c$ with the value of $4$, $-25$, and $20$, respectively.\n",
    "\n",
    "Calculate the values of $x$ for a quadratic equation with $a=4$, $b=-25$, and $c = 20$. Remember to calculate the values for both plus and minus ($\\pm$). "
   ]
  },
  {
   "cell_type": "code",
   "execution_count": 91,
   "metadata": {},
   "outputs": [
    {
     "name": "stdout",
     "output_type": "stream",
     "text": [
      "x =  5.308031149571622 ,  0.9419688504283776\n"
     ]
    }
   ],
   "source": [
    "# your code below: \n",
    "a=4\n",
    "b=-25\n",
    "c=20\n",
    "\n",
    "x_p=(-b +(((b**2)-4*a*c) **0.5))/(2*a)\n",
    "\n",
    "x_m=(-b -(((b**2)-4*a*c) **0.5))/(2*a)\n",
    "\n",
    "print ('x = ',x_p, ', ',x_m)"
   ]
  },
  {
   "cell_type": "markdown",
   "metadata": {},
   "source": [
    "## Question 9\n",
    "\n"
   ]
  },
  {
   "cell_type": "code",
   "execution_count": 93,
   "metadata": {},
   "outputs": [],
   "source": [
    "first  = 1.0\n",
    "second = \"1\"\n",
    "third  = \"1.1\""
   ]
  },
  {
   "cell_type": "markdown",
   "metadata": {},
   "source": [
    "Which of the following will return the floating point number `2.0`?"
   ]
  },
  {
   "cell_type": "code",
   "execution_count": 100,
   "metadata": {},
   "outputs": [
    {
     "data": {
      "text/plain": [
       "2.0"
      ]
     },
     "execution_count": 100,
     "metadata": {},
     "output_type": "execute_result"
    }
   ],
   "source": [
    "first + float(second)          # choice a\n",
    "# float(second) + float(third)   # choice b\n",
    "# first + int(third)             # choice c\n",
    "first + int(float(third))      # choice d\n",
    "# int(first) + int(float(third)) # choice e\n",
    "# 2.0 * second                   # choice f"
   ]
  },
  {
   "cell_type": "markdown",
   "metadata": {},
   "source": [
    "Follow along with materials and sessions at <a href=\"https://deisdata.github.io\">https://deisdata.github.io</a>.\n",
    "\n",
    "**Reference and Resource**\n",
    "\n",
    "This lesson is adapted from \n",
    "<a href='http://swcarpentry.github.io/python-novice-gapminder/design/'>Software Carpentry.</a>"
   ]
  }
 ],
 "metadata": {
  "kernelspec": {
   "display_name": "Python 3.9.12 ('workshop')",
   "language": "python",
   "name": "python3"
  },
  "language_info": {
   "codemirror_mode": {
    "name": "ipython",
    "version": 3
   },
   "file_extension": ".py",
   "mimetype": "text/x-python",
   "name": "python",
   "nbconvert_exporter": "python",
   "pygments_lexer": "ipython3",
   "version": "3.9.12"
  },
  "vscode": {
   "interpreter": {
    "hash": "5e5670abb08844f1af3bbc7bb9ef8e3b4ef400ad7b254432ac9e559b82ca9501"
   }
  }
 },
 "nbformat": 4,
 "nbformat_minor": 4
}
